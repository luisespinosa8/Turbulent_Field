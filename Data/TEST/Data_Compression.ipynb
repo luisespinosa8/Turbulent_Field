{
 "cells": [
  {
   "cell_type": "code",
   "execution_count": 1,
   "id": "ca9c1c80",
   "metadata": {},
   "outputs": [],
   "source": [
    "from pylab import *"
   ]
  },
  {
   "cell_type": "code",
   "execution_count": 4,
   "id": "2f758490",
   "metadata": {},
   "outputs": [],
   "source": [
    "eta = 0.5\n",
    "logE = np.round(np.arange(-2.0,1.2,0.2),decimals=1)\n",
    "\n",
    "for i in range(0, len(logE)):\n",
    "    time = np.genfromtxt('Time/time_1e{Elog}PeV_eta{turb}.txt'.format(Elog = logE[i], turb = eta))\n",
    "    Rxx = np.genfromtxt('Correlation_Functions/Rxx_1e{Elog}PeV_eta{turb}.txt'.format(Elog = logE[i], turb = eta))\n",
    "    Ryy = np.genfromtxt('Correlation_Functions/Ryy_1e{Elog}PeV_eta{turb}.txt'.format(Elog = logE[i], turb = eta))\n",
    "    Rzz = np.genfromtxt('Correlation_Functions/Rzz_1e{Elog}PeV_eta{turb}.txt'.format(Elog = logE[i], turb = eta))\n",
    "    Rxy = np.genfromtxt('Correlation_Functions/Rxy_1e{Elog}PeV_eta{turb}.txt'.format(Elog = logE[i], turb = eta))\n",
    "    Varxx = np.genfromtxt('Variance/Varxx_1e{Elog}PeV_eta{turb}.txt'.format(Elog = logE[i], turb = eta)) \n",
    "    Varyy = np.genfromtxt('Variance/Varyy_1e{Elog}PeV_eta{turb}.txt'.format(Elog = logE[i], turb = eta)) \n",
    "    Varzz = np.genfromtxt('Variance/Varzz_1e{Elog}PeV_eta{turb}.txt'.format(Elog = logE[i], turb = eta)) \n",
    "    Varxy = np.genfromtxt('Variance/Varxy_1e{Elog}PeV_eta{turb}.txt'.format(Elog = logE[i], turb = eta)) \n",
    "    \n",
    "    data = np.array((time, Rxx, Ryy, Rzz, Rxy, Varxx, Varyy, Varzz, Varxy)).T\n",
    "    np.savetxt('Compressed_Data/data_1e{Elog}PeV_eta{turb}.txt'.format(Elog = logE[i], turb = eta), data)"
   ]
  },
  {
   "cell_type": "code",
   "execution_count": null,
   "id": "1fd0e89c",
   "metadata": {},
   "outputs": [],
   "source": []
  },
  {
   "cell_type": "code",
   "execution_count": null,
   "id": "ca5c7e33",
   "metadata": {},
   "outputs": [],
   "source": []
  }
 ],
 "metadata": {
  "kernelspec": {
   "display_name": "Python 3 (ipykernel)",
   "language": "python",
   "name": "python3"
  },
  "language_info": {
   "codemirror_mode": {
    "name": "ipython",
    "version": 3
   },
   "file_extension": ".py",
   "mimetype": "text/x-python",
   "name": "python",
   "nbconvert_exporter": "python",
   "pygments_lexer": "ipython3",
   "version": "3.11.5"
  }
 },
 "nbformat": 4,
 "nbformat_minor": 5
}
