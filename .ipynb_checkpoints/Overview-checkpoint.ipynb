{
 "cells": [
  {
   "cell_type": "markdown",
   "id": "12d48289",
   "metadata": {},
   "source": [
    "# Description of synthetic field and test particle simulations"
   ]
  },
  {
   "cell_type": "code",
   "execution_count": 1,
   "id": "e90f6c4b",
   "metadata": {},
   "outputs": [],
   "source": [
    "from pylab import *"
   ]
  },
  {
   "cell_type": "markdown",
   "id": "3512249d",
   "metadata": {},
   "source": [
    "## 1) Fields"
   ]
  },
  {
   "cell_type": "markdown",
   "id": "5ca576af",
   "metadata": {},
   "source": [
    "Inputs:\n",
    "* $B_0$ - Uniform field in G\n",
    "* $\\eta$ - Turbulence level, i.e. $\\eta = \\delta B_{rms} / B_0$\n",
    "* $\\Delta$ - Spacing of turbulent grid in pc\n",
    "* $N_{grid}$ - Number of grid points in one axis\n",
    "* $\\gamma$ - Spectral index for turbulent spectrum\n",
    "\n",
    "Additional quantities:\n",
    "* $L$ - Size of grid, i.e. $L = N_{grid} \\cdot \\Delta$\n",
    "* $L_{min}$ - Minimum turbulent scale, i.e. $L_{min} = 2 \\cdot \\Delta$\n",
    "* $L_{max}$ - Minimum turbulent scale, i.e. $L_{max} = L / 8$\n",
    "* $\\lambda_c$ - Correlation length given by $L_{min}$ and $L_{max}$"
   ]
  },
  {
   "cell_type": "code",
   "execution_count": 2,
   "id": "994cb9e4",
   "metadata": {},
   "outputs": [],
   "source": [
    "# Before 0.2 to 12.8 with lc 2.728\n",
    "# After 0.2 to 25.6 with lc 5.328"
   ]
  },
  {
   "cell_type": "code",
   "execution_count": 17,
   "id": "b3ab30a3",
   "metadata": {},
   "outputs": [
    {
     "name": "stdout",
     "output_type": "stream",
     "text": [
      "Size of grid: 30.72 pc\n",
      "Minimum length: 0.03 pc\n",
      "Maximum length: 15.36 pc\n",
      "Correlation length: 3.121 pc\n"
     ]
    }
   ],
   "source": [
    "# Inputs\n",
    "B0 = 1e-6\n",
    "eta = 0.5\n",
    "spacing = 0.015\n",
    "grid_number = 2048\n",
    "index = 5. / 3.\n",
    "\n",
    "def box(N, spacing):\n",
    "    size = spacing * N\n",
    "    Lmin = 2 * spacing\n",
    "    Lmax = (N * spacing) / 2\n",
    "    return size, Lmin, Lmax\n",
    "\n",
    "def l_c(Lmax, Lmin, alpha):\n",
    "    return 0.5 * Lmax * ((alpha - 1) / alpha) * ((1 - (Lmin / Lmax)**alpha) / (1 - (Lmin / Lmax)**(alpha - 1)))\n",
    "\n",
    "# Relevant quantities\n",
    "size, Lmin, Lmax = box(grid_number, spacing)\n",
    "lc = l_c(Lmax, Lmin, index)\n",
    "print('Size of grid:', size, 'pc')\n",
    "print('Minimum length:', Lmin, 'pc')\n",
    "print('Maximum length:', Lmax, 'pc')\n",
    "print('Correlation length:', np.round(lc, 3), 'pc')"
   ]
  },
  {
   "cell_type": "code",
   "execution_count": 18,
   "id": "1eee3ebe",
   "metadata": {},
   "outputs": [
    {
     "name": "stdout",
     "output_type": "stream",
     "text": [
      "Thus, the rigidity ratio range relevant is:\n",
      "Minimum rigidity ratio: 0.01 Or in log scale: -2.017\n",
      "Maximum rigidity ratio: 4.922 Or in log scale: 0.692\n"
     ]
    }
   ],
   "source": [
    "print('Thus, the rigidity ratio range relevant is:')\n",
    "print('Minimum rigidity ratio:', np.round(Lmin / lc, 3), 'Or in log scale:', np.round(np.log10(Lmin / lc), 3))\n",
    "print('Maximum rigidity ratio:', np.round(Lmax / lc, 3), 'Or in log scale:', np.round(np.log10(Lmax / lc), 3))"
   ]
  },
  {
   "cell_type": "markdown",
   "id": "38d408af",
   "metadata": {},
   "source": [
    "## 2) Test particles"
   ]
  },
  {
   "cell_type": "markdown",
   "id": "ff902b9e",
   "metadata": {},
   "source": [
    "Inputs: \n",
    "* $E$ - Energy of injected particles\n",
    "* $N_p$ - Number of injected particles\n",
    "* $N_t$ - Number of time measurements\n",
    "* $D$ - Maximum distance travelled by particles"
   ]
  },
  {
   "cell_type": "code",
   "execution_count": 19,
   "id": "0ab3c681",
   "metadata": {},
   "outputs": [
    {
     "name": "stdout",
     "output_type": "stream",
     "text": [
      "The associated energies for the minimum and maximum turbulence length scales are:\n",
      "Minimum energy 31.04902492223802 TeV\n",
      "Maximum energy 15.897100760185866 PeV\n",
      "And in log-scale log(E/PeV):\n",
      "Log minimum energy -1.5079520340555435\n",
      "Log maximum energy 1.2013179269202874\n"
     ]
    }
   ],
   "source": [
    "# Larmor radius\n",
    "def r_L(E, B):\n",
    "    # E in eV\n",
    "    Z = 1\n",
    "    B = B * 1e-4 # in T\n",
    "    c = 3e8\n",
    "    r = E / (Z * B * c) # in m\n",
    "    return r * 3.24078e-17 # in pc\n",
    "\n",
    "# Energy given Larmor radius\n",
    "def E(r_L, B):\n",
    "    Z = 1\n",
    "    B = B * 1e-4 # in T\n",
    "    r = r_L / 3.24078e-17\n",
    "    c = 3e8\n",
    "    return r * Z * B * c # in eV\n",
    "\n",
    "B = np.sqrt(B0**2 + (B0 * eta)**2)\n",
    "Emin = E(Lmin, B)\n",
    "Emax = E(Lmax, B)\n",
    "\n",
    "print('The associated energies for the minimum and maximum turbulence length scales are:')\n",
    "print('Minimum energy', Emin / 1e12, 'TeV')\n",
    "print('Maximum energy', Emax / 1e15, 'PeV')\n",
    "print('And in log-scale log(E/PeV):')\n",
    "print('Log minimum energy', np.log10(Emin / 1e15))\n",
    "print('Log maximum energy', np.log10(Emax / 1e15))"
   ]
  },
  {
   "cell_type": "code",
   "execution_count": 16,
   "id": "b2af8bda",
   "metadata": {},
   "outputs": [
    {
     "name": "stdout",
     "output_type": "stream",
     "text": [
      "Min probed ratio: 0.0028730319148936173\n",
      "Max probed ratio: 28.730319148936175\n"
     ]
    }
   ],
   "source": [
    "print('Min probed ratio:', r_L(1e12, B) / 75.2)\n",
    "print('Max probed ratio:', r_L(1e16, B) / 75.2)"
   ]
  },
  {
   "cell_type": "code",
   "execution_count": 108,
   "id": "bbb1b530",
   "metadata": {},
   "outputs": [
    {
     "name": "stdout",
     "output_type": "stream",
     "text": [
      "The associated time steps for the minimum and maximum turbulence length scales are:\n",
      "Minimum step 2057117.937 s, or 0.02 pc\n",
      "Maximum step 131655547.944 s, or 1.28 pc\n",
      "\n",
      "The corresponding Larmor radii for the minimum and maximum turbulence length scales are:\n",
      "Minimum Larmor radius 0.2 pc\n",
      "Maximum Larmor radius 12.8 pc\n",
      "\n",
      "The associated distance particles need to travel for the minimum and maximum turbulence length scales are:\n",
      "Minimum distance 2000.0 pc, corresponding to 10000.0 gyrations\n",
      "Maximum distance 128000.0 pc, corresponding to 10000.0 gyrations\n"
     ]
    }
   ],
   "source": [
    "# Following (Candia & Roulet, 2004)\n",
    "\n",
    "def time_step(E, B):\n",
    "    c = 3e8\n",
    "    Z = 1\n",
    "    r = r_L(E, B) / 3.24078e-17\n",
    "    return 0.1 * (r / c)\n",
    "\n",
    "def distance(step, Nstep):\n",
    "    time = step * Nstep\n",
    "    c = 3e8\n",
    "    return c * time * 3.24078e-17 # in pc\n",
    "\n",
    "tmin = time_step(Emin, B)\n",
    "tmax = time_step(Emax, B)\n",
    "dmin = distance(tmin, 1)\n",
    "dmax = distance(tmax, 1)\n",
    "\n",
    "print('The associated time steps for the minimum and maximum turbulence length scales are:')\n",
    "print('Minimum step', np.round(tmin, 3), 's, or', np.round(dmin, 3), 'pc')\n",
    "print('Maximum step', np.round(tmax, 3), 's, or', np.round(dmax, 3), 'pc')\n",
    "print('')\n",
    "\n",
    "r_L_min = r_L(Emin, B)\n",
    "r_L_max = r_L(Emax, B)\n",
    "\n",
    "print('The corresponding Larmor radii for the minimum and maximum turbulence length scales are:')\n",
    "print('Minimum Larmor radius', np.round(r_L_min, 3), 'pc')\n",
    "print('Maximum Larmor radius', np.round(r_L_max, 3), 'pc')\n",
    "print('')\n",
    "\n",
    "Dmin = distance(tmin, 1e5)\n",
    "Dmax = distance(tmax, 1e5)\n",
    "\n",
    "print('The associated distance particles need to travel for the minimum and maximum turbulence length scales are:')\n",
    "print('Minimum distance', np.round(Dmin, 3), 'pc, corresponding to', np.round(Dmin / r_L_min), 'gyrations')\n",
    "print('Maximum distance', np.round(Dmax, 3), 'pc, corresponding to', np.round(Dmax / r_L_max), 'gyrations')"
   ]
  },
  {
   "cell_type": "code",
   "execution_count": 92,
   "id": "925065de",
   "metadata": {},
   "outputs": [
    {
     "name": "stdout",
     "output_type": "stream",
     "text": [
      "Number of gyrations needed to reach plateau: 15866240.0\n"
     ]
    }
   ],
   "source": [
    "# Following empircal reasoning\n",
    "\n",
    "# Larmor time\n",
    "def t_L(E, B):\n",
    "    # E in eV\n",
    "    Z = 1\n",
    "    B = B * 1e-4 # in T\n",
    "    c = 3e8\n",
    "    t = E / (Z * B * c**2) # in s\n",
    "    return t * 3.17098e-8 # in yrs\n",
    "\n",
    "# Time needed to reach plateau for PeV particles\n",
    "time_needed_PeV = 5e7 # in yrs\n",
    "# Gyration time for PeV particles\n",
    "time_gyration = t_L(1e15, B)\n",
    "print('Number of gyrations needed to reach plateau:', np.round(time_needed_PeV / time_gyration))"
   ]
  },
  {
   "cell_type": "code",
   "execution_count": 93,
   "id": "eb558892",
   "metadata": {},
   "outputs": [
    {
     "name": "stdout",
     "output_type": "stream",
     "text": [
      "Travel distance needed for TeV particles: 15331.0 Mpc\n",
      "Travel distance needed for 10 TeV particles: 1534.0 Mpc\n",
      "Travel distance needed for 100 TeV particles: 154.0 Mpc\n",
      "Travel distance needed for PeV particles: 16.0 Mpc\n"
     ]
    }
   ],
   "source": [
    "def len_needed(E, B):\n",
    "    # E in eV\n",
    "    Z = 1\n",
    "    B = B * 1e-4 # in T\n",
    "    c = 3e8 # in m/s\n",
    "    time_plateau = 5e7 / E # in yrs\n",
    "    gyration_time = ( (E * 1e15) / (Z * B * c**2) ) * 3.17098e-8 # in yrs\n",
    "    gyrations = time_plateau / gyration_time\n",
    "    r_L = ( (E * 1e15) / (Z * B * c) ) * 3.24078e-17 * 1e-6 # in Mpc\n",
    "    return np.ceil(gyrations * r_L)\n",
    "\n",
    "B = np.sqrt(B0**2 + (B0 * eta)**2)\n",
    "print('Travel distance needed for TeV particles:', np.round(len_needed(10**-3.0, B), 3), 'Mpc')\n",
    "print('Travel distance needed for 10 TeV particles:', np.round(len_needed(10**-2.0, B), 3), 'Mpc')\n",
    "print('Travel distance needed for 100 TeV particles:', np.round(len_needed(10**-1.0, B), 3), 'Mpc')\n",
    "print('Travel distance needed for PeV particles:', np.round(len_needed(10**-0.0, B), 3), 'Mpc')"
   ]
  },
  {
   "cell_type": "code",
   "execution_count": 94,
   "id": "1079320f",
   "metadata": {},
   "outputs": [
    {
     "name": "stdout",
     "output_type": "stream",
     "text": [
      "Number of integration steps needed for TeV particles: 1533100000000.0\n",
      "Number of integration steps needed for 10 TeV particles: 153400000000.0\n",
      "Number of integration steps needed for 100 TeV particles: 15400000000.0\n",
      "Number of integration steps needed for PeV particles: 1600000000.0\n"
     ]
    }
   ],
   "source": [
    "# If minimum integration step size is 0.01 pc\n",
    "print('Number of integration steps needed for TeV particles:', np.round(len_needed(10**-3.0, B) / 1e-8, 3))\n",
    "print('Number of integration steps needed for 10 TeV particles:', np.round(len_needed(10**-2.0, B) / 1e-8, 3))\n",
    "print('Number of integration steps needed for 100 TeV particles:', np.round(len_needed(10**-1.0, B) / 1e-8, 3))\n",
    "print('Number of integration steps needed for PeV particles:', np.round(len_needed(10**-0.0, B) / 1e-8, 3))"
   ]
  }
 ],
 "metadata": {
  "kernelspec": {
   "display_name": "Python 3 (ipykernel)",
   "language": "python",
   "name": "python3"
  },
  "language_info": {
   "codemirror_mode": {
    "name": "ipython",
    "version": 3
   },
   "file_extension": ".py",
   "mimetype": "text/x-python",
   "name": "python",
   "nbconvert_exporter": "python",
   "pygments_lexer": "ipython3",
   "version": "3.11.5"
  }
 },
 "nbformat": 4,
 "nbformat_minor": 5
}
