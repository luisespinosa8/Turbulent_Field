{
 "cells": [
  {
   "cell_type": "markdown",
   "id": "d038fe6f",
   "metadata": {},
   "source": [
    "# Particle diffusion in synthetic turbulent field"
   ]
  },
  {
   "cell_type": "code",
   "execution_count": 1,
   "id": "292a3bd3",
   "metadata": {},
   "outputs": [],
   "source": [
    "from pylab import *"
   ]
  },
  {
   "cell_type": "code",
   "execution_count": null,
   "id": "7c0b1e6f",
   "metadata": {},
   "outputs": [],
   "source": [
    "from crpropa import *"
   ]
  },
  {
   "cell_type": "markdown",
   "id": "152035d4",
   "metadata": {},
   "source": [
    "## 1. Generation of turbulent and uniform fields"
   ]
  },
  {
   "cell_type": "code",
   "execution_count": null,
   "id": "20de9799",
   "metadata": {},
   "outputs": [],
   "source": [
    "# Grid\n",
    "spacing = 10 * pc\n",
    "grid_number = 256\n",
    "\n",
    "# Turbulent field\n",
    "random_seed = 42\n",
    "Brms = 5 * nG\n",
    "lmin = 2 * spacing\n",
    "lmax = (grid_number * spacing) / 8\n",
    "index = 5./3.\n",
    "spectrum = SimpleTurbulenceSpectrum(Brms, lmin, lmax, index)\n",
    "grid = GridProperties(Vector3d(0), grid_number, spacing)\n",
    "BField = SimpleGridTurbulence(spectrum, grid, random_seed)\n",
    "\n",
    "# Uniform field\n",
    "ConstMagVec = Vector3d(0*nG,0*nG,1*nG)\n",
    "BField = UniformMagneticField(ConstMagVec)\n",
    "\n",
    "# Print field properties\n",
    "print('Field properties:')\n",
    "print('Lc = {:.1f} pc'.format(BField.getCorrelationLength() / pc))\n",
    "print('sqrt(<B^2>) = {:.1f} nG'.format(BField.getBrms() / nG)) \n",
    "print('<|B|> = {:.1f} nG'.format(BField.getMeanFieldStrength() / nG))  \n",
    "\n",
    "# Saving field\n",
    "dumpGridToTxt(BField.getGrid(), 'kolmogorov_field.txt') "
   ]
  },
  {
   "cell_type": "markdown",
   "id": "8b8e1b51",
   "metadata": {},
   "source": [
    "## 2. Particle propagation"
   ]
  },
  {
   "cell_type": "code",
   "execution_count": null,
   "id": "17feb33e",
   "metadata": {},
   "outputs": [],
   "source": [
    "N_particles = 1e5\n",
    "\n",
    "# Propagation settings\n",
    "maxlen = 100 * kpc\n",
    "N = 50.\n",
    "Emin = 100 * GeV\n",
    "Emax = 100 * PeV\n",
    "step = maxlen / N\n",
    "sim = ModuleList()\n",
    "sim.add(PropagationCK(BField))\n",
    "sim.add(MaximumTrajectoryLength(maxlen))\n",
    "\n",
    "# Source\n",
    "source = Source()\n",
    "source.add(SourcePosition(Vector3d(0.))) # Centered at origin\n",
    "source.add(SourceParticleType(nucleusId(1, 1))) # Emitting protons\n",
    "source.add(SourcePowerLawSpectrum(Emin, Emax, -1) ) # Energy spectrum\n",
    "source.add(SourceIsotropicEmission())\n",
    "print(source)\n",
    "\n",
    "# Ouput\n",
    "out = TextOutput('trajectory.txt', Output.Trajectory3D)\n",
    "out.enable(Output.TrajectoryLengthColumn)\n",
    "out.enable(Output.CurrentPositionColumn)\n",
    "out.enable(Output.SerialNumberColumn)\n",
    "out.setLengthScale(kpc)\n",
    "\n",
    "# Observer\n",
    "obs = Observer()\n",
    "obs.add(ObserverTimeEvolution(step, step, N)) # Number of time steps\n",
    "obs.setDeactivateOnDetection(False)\n",
    "obs.onDetection(out)\n",
    "sim.add(obs)\n",
    "\n",
    "# Run simulation\n",
    "sim.run(source, int(N_particles), True)\n",
    "out.close()\n",
    "print('Simulation finished :)')"
   ]
  }
 ],
 "metadata": {
  "kernelspec": {
   "display_name": "Python 3 (ipykernel)",
   "language": "python",
   "name": "python3"
  },
  "language_info": {
   "codemirror_mode": {
    "name": "ipython",
    "version": 3
   },
   "file_extension": ".py",
   "mimetype": "text/x-python",
   "name": "python",
   "nbconvert_exporter": "python",
   "pygments_lexer": "ipython3",
   "version": "3.11.5"
  }
 },
 "nbformat": 4,
 "nbformat_minor": 5
}
