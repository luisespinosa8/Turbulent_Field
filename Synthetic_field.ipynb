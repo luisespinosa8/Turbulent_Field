{
 "cells": [
  {
   "cell_type": "code",
   "execution_count": null,
   "id": "5dac55f1",
   "metadata": {},
   "outputs": [],
   "source": [
    "from crpropa import *"
   ]
  },
  {
   "cell_type": "code",
   "execution_count": 18,
   "id": "267eeb04",
   "metadata": {},
   "outputs": [],
   "source": [
    "from pylab import *"
   ]
  },
  {
   "cell_type": "markdown",
   "id": "ad8a883e",
   "metadata": {},
   "source": [
    "# Synthetic turbulent field with CRPropa"
   ]
  },
  {
   "cell_type": "markdown",
   "id": "0f8697ba",
   "metadata": {},
   "source": [
    "### Properties of grid and field"
   ]
  },
  {
   "cell_type": "code",
   "execution_count": null,
   "id": "248df946",
   "metadata": {},
   "outputs": [],
   "source": [
    "# Grid\n",
    "spacing = 10 * pc\n",
    "N = 100\n",
    "# Field\n",
    "Brms = 3 * nG\n",
    "lmin = 50 * pc \n",
    "lmax = 1000 * pc \n",
    "index = 5./3. \n",
    "random_seed = 42\n",
    "\n",
    "# Creation of turbulent field\n",
    "spectrum = SimpleTurbulenceSpectrum(Brms, lmin, lmax, index)\n",
    "grid = GridProperties(Vector3d(0), N, spacing)\n",
    "BField = SimpleGridTurbulence(spectrum, grid, random_seed)\n",
    "\n",
    "# Save field\n",
    "dumpGrid(BField.getGrid(), 'exapmple_field.dat')"
   ]
  },
  {
   "cell_type": "markdown",
   "id": "3043ed73",
   "metadata": {},
   "source": [
    "### Check of field properties"
   ]
  },
  {
   "cell_type": "code",
   "execution_count": null,
   "id": "7c0b75ed",
   "metadata": {},
   "outputs": [],
   "source": [
    "print('Lc = {:.1f} kpc'.format(BField.getCorrelationLength() / pc))  \n",
    "print('sqrt(<B^2>) = {:.1f} nG'.format(BField.getBrms() / nG))   \n",
    "print('<|B|> = {:.1f} nG'.format(BField.getMeanFieldStrength() / nG))"
   ]
  },
  {
   "cell_type": "markdown",
   "id": "2c907f4e",
   "metadata": {},
   "source": [
    "### Load field"
   ]
  },
  {
   "cell_type": "code",
   "execution_count": null,
   "id": "86068734",
   "metadata": {},
   "outputs": [],
   "source": [
    "BField = loadGrid(vgrid, 'example_field.dat')"
   ]
  },
  {
   "cell_type": "markdown",
   "id": "193c60cb",
   "metadata": {},
   "source": [
    "### Evaluation of field components along the three axes"
   ]
  },
  {
   "cell_type": "code",
   "execution_count": 33,
   "id": "eacee546",
   "metadata": {},
   "outputs": [
    {
     "data": {
      "text/plain": [
       "1000000"
      ]
     },
     "execution_count": 33,
     "metadata": {},
     "output_type": "execute_result"
    }
   ],
   "source": [
    "Bx = 0; By = 0; Bz = 0\n",
    "for i in range(0,100):\n",
    "    for j in range(0,100):\n",
    "        for k in range(0,100):\n",
    "            x = spacing*i\n",
    "            y = spacing*j\n",
    "            z = spacing*k\n",
    "            field = BBField.getField(Vector3d(x,y,z) * pc) / nG\n",
    "            Bx = Bx + field[0]\n",
    "            By = By + field[0]\n",
    "            Bz = Bz + field[0]\n",
    "\n",
    "B = np.sqrt(Bx**2 + By**2 + Bz**2)\n",
    "print('Total Bx', Bx)\n",
    "print('Total By', By)\n",
    "print('Total Bz', Bz)\n",
    "print('Total B', B) # Corroboration for a zero-mean-field in grid"
   ]
  },
  {
   "cell_type": "markdown",
   "id": "fd1f9b6c",
   "metadata": {},
   "source": [
    "### Plot of field components (wrong, correcting...)"
   ]
  },
  {
   "cell_type": "code",
   "execution_count": null,
   "id": "8e82ab91",
   "metadata": {},
   "outputs": [],
   "source": [
    "plt.figure(figsize=(10, 7))\n",
    "# x-axis\n",
    "plt.subplot(2, 2, 1)\n",
    "plt.plot(x, Bx_x, label=r'$B_x$')\n",
    "plt.plot(x, By_x, label=r'$B_y$')\n",
    "plt.plot(x, Bz_x, label=r'$B_z$')\n",
    "plt.xscale('log')\n",
    "plt.grid()\n",
    "plt.xlabel('x [pc]', fontsize=17)\n",
    "plt.ylabel('B [nG]', fontsize=17)\n",
    "plt.yticks(fontsize=17)\n",
    "plt.xticks(fontsize=17)\n",
    "plt.title('Along x-axis', fontsize=17)\n",
    "# y-axis\n",
    "plt.subplot(2, 2, 2)\n",
    "plt.plot(y, Bx_y, label=r'$B_x$')\n",
    "plt.plot(y, By_y, label=r'$B_y$')\n",
    "plt.plot(y, Bz_y, label=r'$B_z$')\n",
    "plt.xscale('log')\n",
    "plt.grid()\n",
    "plt.xlabel('y [pc]', fontsize=17)\n",
    "plt.ylabel('B [nG]', fontsize=17)\n",
    "plt.yticks(fontsize=17)\n",
    "plt.xticks(fontsize=17)\n",
    "plt.title('Along y-axis', fontsize=17)\n",
    "# z-axis\n",
    "plt.subplot(2, 2, 3)\n",
    "plt.plot(z, Bx_z, label=r'$B_x$')\n",
    "plt.plot(z, By_z, label=r'$B_y$')\n",
    "plt.plot(z, Bz_z, label=r'$B_z$')\n",
    "plt.xscale('log')\n",
    "plt.grid()\n",
    "plt.xlabel('z [pc]', fontsize=17)\n",
    "plt.ylabel('B [nG]', fontsize=17)\n",
    "plt.yticks(fontsize=17)\n",
    "plt.xticks(fontsize=17)\n",
    "plt.title('Along z-axis', fontsize=17)\n",
    "plt.savefig('Field_components.pdf')"
   ]
  },
  {
   "cell_type": "markdown",
   "id": "57a25a67",
   "metadata": {},
   "source": [
    "## Uniform field $\\vec{B_0}=B_0\\hat{z}$ with turbulence $\\vec{\\delta B}=(\\delta B_x,\\delta B_y,0)$"
   ]
  },
  {
   "cell_type": "markdown",
   "id": "a63ae392",
   "metadata": {},
   "source": [
    "## $\\delta B_x=\\delta B\\cos(kz)$ and $\\delta B_y=\\pm\\delta B\\sin(kz)$ such that $\\frac{\\delta B_y}{\\delta B_x}=\\pm\\tan(kz)$"
   ]
  },
  {
   "cell_type": "markdown",
   "id": "ece1cf8c",
   "metadata": {},
   "source": [
    "### Computation of k-scales and power spectrum F(k)"
   ]
  },
  {
   "cell_type": "code",
   "execution_count": null,
   "id": "9acbcf8f",
   "metadata": {},
   "outputs": [],
   "source": [
    "k = [0] * 601\n",
    "F_k = [0] * 601\n",
    "for i in range(0,601):\n",
    "    z = 10**(i / 100)\n",
    "    Bx, By, Bz = BBField.getField(Vector3d(0,0,z) * pc) / nG\n",
    "    k[i] = (By / Bx)*(1 / z) \n",
    "    delta_B = np.cos(k*z) / Bx\n",
    "    #delta_B = np.sin(k*z) / By\n",
    "    F_k[i] = ( (delta_B**2) / (Brms**2) ) * k"
   ]
  },
  {
   "cell_type": "markdown",
   "id": "264f50bf",
   "metadata": {},
   "source": [
    "### Plot of power spectrum"
   ]
  },
  {
   "cell_type": "code",
   "execution_count": null,
   "id": "8bc4e098",
   "metadata": {},
   "outputs": [],
   "source": [
    "plt.figure(figsize=(10, 7))\n",
    "plt.plot(k, F_k)\n",
    "plt.title('Power spectrum of turbulent field', fontsize=17)\n",
    "plt.xlabel('k [1/pc]', fontsize=17)\n",
    "plt.ylabel('F(k)', fontsize=17)\n",
    "plt.grid()\n",
    "plt.yticks(fontsize=17)\n",
    "plt.xticks(fontsize=17)\n",
    "plt.savefig('Spectrum_synthetic_field.pdf')"
   ]
  }
 ],
 "metadata": {
  "kernelspec": {
   "display_name": "Python 3 (ipykernel)",
   "language": "python",
   "name": "python3"
  },
  "language_info": {
   "codemirror_mode": {
    "name": "ipython",
    "version": 3
   },
   "file_extension": ".py",
   "mimetype": "text/x-python",
   "name": "python",
   "nbconvert_exporter": "python",
   "pygments_lexer": "ipython3",
   "version": "3.11.5"
  }
 },
 "nbformat": 4,
 "nbformat_minor": 5
}
