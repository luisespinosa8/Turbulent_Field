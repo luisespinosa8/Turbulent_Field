{
 "cells": [
  {
   "cell_type": "code",
   "execution_count": null,
   "id": "5dac55f1",
   "metadata": {},
   "outputs": [],
   "source": [
    "from crpropa import *"
   ]
  },
  {
   "cell_type": "code",
   "execution_count": 3,
   "id": "267eeb04",
   "metadata": {},
   "outputs": [],
   "source": [
    "from pylab import *"
   ]
  },
  {
   "cell_type": "markdown",
   "id": "ad8a883e",
   "metadata": {},
   "source": [
    "# Synthetic turbulent field with CRPropa"
   ]
  },
  {
   "cell_type": "markdown",
   "id": "57a25a67",
   "metadata": {},
   "source": [
    "## Uniform field $\\vec{B_0}=B_0\\hat{z}$ with turbulence $\\vec{\\delta B}=(\\delta B_x,\\delta B_y,0)$"
   ]
  },
  {
   "cell_type": "markdown",
   "id": "a63ae392",
   "metadata": {},
   "source": [
    "## $\\delta B_x=\\delta B\\cos(kz)$ and $\\delta B_y=\\pm\\delta B\\sin(kz)$ such that $\\frac{\\delta B_y}{\\delta B_x}=\\pm\\tan(kz)$"
   ]
  },
  {
   "cell_type": "code",
   "execution_count": null,
   "id": "248df946",
   "metadata": {},
   "outputs": [],
   "source": [
    "# Properties of grid and field\n",
    "random_seed = 42\n",
    "Brms = 3 * nG\n",
    "lmin = 60 * pc \n",
    "lmax = 800 * pc \n",
    "index = 5./3. \n",
    "spectrum = SimpleTurbulenceSpectrum(Brms, lmin, lmax, index)\n",
    "grid = GridProperties(Vector3d(0), 256, 30 * pc)\n",
    "BField = SimpleGridTurbulence(spectrum, grid, random_seed)"
   ]
  },
  {
   "cell_type": "code",
   "execution_count": null,
   "id": "7c0b75ed",
   "metadata": {},
   "outputs": [],
   "source": [
    "# Check of field properties\n",
    "print('Lc = {:.1f} kpc'.format(BField.getCorrelationLength() / kpc))  \n",
    "print('sqrt(<B^2>) = {:.1f} nG'.format(BField.getBrms() / nG))   \n",
    "print('<|B|> = {:.1f} nG'.format(BField.getMeanFieldStrength() / nG))"
   ]
  },
  {
   "cell_type": "code",
   "execution_count": null,
   "id": "86068734",
   "metadata": {},
   "outputs": [],
   "source": [
    "# Save field\n",
    "dumpGrid(BField.getGrid(), 'myfield.dat')\n",
    "# Load field\n",
    "BField = loadGrid(vgrid, 'myfield.dat')"
   ]
  },
  {
   "cell_type": "code",
   "execution_count": null,
   "id": "a874ef74",
   "metadata": {},
   "outputs": [],
   "source": [
    "# Evaluation of field components along the three axes\n",
    "x = [0] * 601\n",
    "Bx_x = [0] * 601\n",
    "By_x = [0] * 601\n",
    "Bz_x = [0] * 601\n",
    "for a in range(0,601):\n",
    "    x[a] = 10**(a / 100)\n",
    "    Bx_x[a], By_x[a], Bz_x[a] = BBField.getField(Vector3d(x[a],0,0) * pc) / nG\n",
    "Bx_y = [0] * 601\n",
    "By_y = [0] * 601\n",
    "Bz_y = [0] * 601\n",
    "for b in range(0,601):\n",
    "    y[b] = 10**(b / 100)\n",
    "    Bx_y[b], By_y[b], Bz_y[b] = BBField.getField(Vector3d(0,y[b],0) * pc) / nG\n",
    "Bx_z = [0] * 601\n",
    "By_z = [0] * 601\n",
    "Bz_z = [0] * 601\n",
    "for c in range(0,601):\n",
    "    z[c] = 10**(c / 100)\n",
    "    Bx_z[c], By_z[c], Bz_z[c] = BBField.getField(Vector3d(0,0,z[c]) * pc) / nG\n",
    "    \n",
    "#Plot of field components\n",
    "plt.figure(figsize=(10, 7))\n",
    "#~\n",
    "plt.subplot(2, 2, 1)\n",
    "plt.plot(x, Bx_x, label=r'$B_x$')\n",
    "plt.plot(x, By_x, label=r'$B_y$')\n",
    "plt.plot(x, Bz_x, label=r'$B_z$')\n",
    "plt.xscale('log')\n",
    "plt.grid()\n",
    "plt.xlabel('x [pc]', fontsize=17)\n",
    "plt.ylabel('B [nG]', fontsize=17)\n",
    "plt.yticks(fontsize=17)\n",
    "plt.xticks(fontsize=17)\n",
    "plt.title('Along x-axis', fontsize=17)\n",
    "#~\n",
    "plt.subplot(2, 2, 2)\n",
    "plt.plot(y, Bx_y, label=r'$B_x$')\n",
    "plt.plot(y, By_y, label=r'$B_y$')\n",
    "plt.plot(y, Bz_y, label=r'$B_z$')\n",
    "plt.xscale('log')\n",
    "plt.grid()\n",
    "plt.xlabel('y [pc]', fontsize=17)\n",
    "plt.ylabel('B [nG]', fontsize=17)\n",
    "plt.yticks(fontsize=17)\n",
    "plt.xticks(fontsize=17)\n",
    "plt.title('Along y-axis', fontsize=17)\n",
    "#~\n",
    "plt.subplot(2, 2, 3)\n",
    "plt.plot(z, Bx_z, label=r'$B_x$')\n",
    "plt.plot(z, By_z, label=r'$B_y$')\n",
    "plt.plot(z, Bz_z, label=r'$B_z$')\n",
    "plt.xscale('log')\n",
    "plt.grid()\n",
    "plt.xlabel('z [pc]', fontsize=17)\n",
    "plt.ylabel('B [nG]', fontsize=17)\n",
    "plt.yticks(fontsize=17)\n",
    "plt.xticks(fontsize=17)\n",
    "plt.title('Along z-axis', fontsize=17)\n",
    "plt.savefig('Field_components.pdf')"
   ]
  },
  {
   "cell_type": "code",
   "execution_count": null,
   "id": "8bc4e098",
   "metadata": {},
   "outputs": [],
   "source": [
    "# Computation of k-scales and power spectrum F(k)\n",
    "k = [0] * 601\n",
    "F_k = [0] * 601\n",
    "for i in range(0,601):\n",
    "    z = 10**(i / 100)\n",
    "    Bx, By, Bz = BBField.getField(Vector3d(0,0,z) * pc) / nG\n",
    "    k[i] = (By / Bx)*(1 / z) \n",
    "    delta_B = np.cos(k*z) / Bx\n",
    "    #delta_B = np.sin(k*z) / By\n",
    "    F_k[i] = ( (delta_B**2) / (Brms**2) ) * k\n",
    "    \n",
    "# Plot of power spectrum \n",
    "plt.figure(figsize=(10, 7))\n",
    "plt.plot(k, F_k)\n",
    "plt.title('Power spectrum of turbulent field', fontsize=17)\n",
    "plt.xlabel('k [1/pc]', fontsize=17)\n",
    "plt.ylabel('F(k)', fontsize=17)\n",
    "plt.grid()\n",
    "plt.yticks(fontsize=17)\n",
    "plt.xticks(fontsize=17)\n",
    "plt.savefig('Spectrum_synthetic_field.pdf')"
   ]
  }
 ],
 "metadata": {
  "kernelspec": {
   "display_name": "Python 3 (ipykernel)",
   "language": "python",
   "name": "python3"
  },
  "language_info": {
   "codemirror_mode": {
    "name": "ipython",
    "version": 3
   },
   "file_extension": ".py",
   "mimetype": "text/x-python",
   "name": "python",
   "nbconvert_exporter": "python",
   "pygments_lexer": "ipython3",
   "version": "3.11.5"
  }
 },
 "nbformat": 4,
 "nbformat_minor": 5
}
