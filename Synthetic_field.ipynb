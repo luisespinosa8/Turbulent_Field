{
 "cells": [
  {
   "cell_type": "code",
   "execution_count": null,
   "id": "5dac55f1",
   "metadata": {},
   "outputs": [],
   "source": [
    "from crpropa import *"
   ]
  },
  {
   "cell_type": "code",
   "execution_count": 34,
   "id": "267eeb04",
   "metadata": {},
   "outputs": [],
   "source": [
    "from pylab import *"
   ]
  },
  {
   "cell_type": "markdown",
   "id": "ad8a883e",
   "metadata": {},
   "source": [
    "# Synthetic turbulent magnetic field with CRPropa"
   ]
  },
  {
   "cell_type": "markdown",
   "id": "21c59b7b",
   "metadata": {},
   "source": [
    "## 1. Creation of field"
   ]
  },
  {
   "cell_type": "markdown",
   "id": "0f8697ba",
   "metadata": {},
   "source": [
    "### Properties of grid and field"
   ]
  },
  {
   "cell_type": "code",
   "execution_count": null,
   "id": "248df946",
   "metadata": {},
   "outputs": [],
   "source": [
    "# Grid\n",
    "spacing = 10 * pc\n",
    "grid_number = 100\n",
    "\n",
    "# Field\n",
    "Brms = 5 * nG\n",
    "lmin = 50 * pc \n",
    "lmax = 1000 * pc \n",
    "index = 5./3. \n",
    "random_seed = 42\n",
    "\n",
    "# Creation of turbulent field\n",
    "spectrum = SimpleTurbulenceSpectrum(Brms, lmin, lmax, index)\n",
    "grid = GridProperties(Vector3d(0), grid_number, spacing)\n",
    "BField = SimpleGridTurbulence(spectrum, grid, random_seed)\n",
    "\n",
    "# Save field\n",
    "dumpGrid(BField.getGrid(), 'kolmogorov_field.dat')"
   ]
  },
  {
   "cell_type": "markdown",
   "id": "3043ed73",
   "metadata": {},
   "source": [
    "### Check of field properties"
   ]
  },
  {
   "cell_type": "code",
   "execution_count": null,
   "id": "7c0b75ed",
   "metadata": {},
   "outputs": [],
   "source": [
    "print('Lc = {:.1f} kpc'.format(BField.getCorrelationLength() / pc))  \n",
    "print('sqrt(<B^2>) = {:.1f} nG'.format(BField.getBrms() / nG))   \n",
    "print('<|B|> = {:.1f} nG'.format(BField.getMeanFieldStrength() / nG))"
   ]
  },
  {
   "cell_type": "markdown",
   "id": "27169e7d",
   "metadata": {},
   "source": [
    "## 2. Diagnostic of field"
   ]
  },
  {
   "cell_type": "markdown",
   "id": "8a4ea417",
   "metadata": {},
   "source": [
    "### Extraction of field components at random positions"
   ]
  },
  {
   "cell_type": "code",
   "execution_count": null,
   "id": "951275a9",
   "metadata": {},
   "outputs": [],
   "source": [
    "# Storing list\n",
    "N = int(1e6)\n",
    "Bx = [0] * N\n",
    "By = [0] * N\n",
    "Bz = [0] * N\n",
    "\n",
    "# Evaluation of field\n",
    "for i in range(0,N):\n",
    "    x = random.randrange(0,10000)\n",
    "    y = random.randrange(0,10000)\n",
    "    z = random.randrange(0,10000)\n",
    "    field = BField.getField(Vector3d(x,y,z) * pc) / nG\n",
    "    Bx[i] = field[0]\n",
    "    By[i] = field[1]\n",
    "    Bz[i] = field[2]\n",
    "\n",
    "# Transforming to arrays\n",
    "Bx = np.array(Bx)\n",
    "By = np.array(By)\n",
    "Bz = np.array(Bz)\n",
    "B = np.sqrt(Bx**2 + By*+2 + Bz**2)\n",
    "Bx_sqr = Bx**2\n",
    "By_sqr = By**2\n",
    "Bz_sqr = Bz**2"
   ]
  },
  {
   "cell_type": "markdown",
   "id": "361f402d",
   "metadata": {},
   "source": [
    "### Check of mean values"
   ]
  },
  {
   "cell_type": "code",
   "execution_count": null,
   "id": "85638580",
   "metadata": {},
   "outputs": [],
   "source": [
    "Bx_mean = np.mean(Bx)\n",
    "By_mean = np.mean(By)\n",
    "Bz_mean = np.mean(Bz)\n",
    "\n",
    "print('Mean Bx', Bx_mean)\n",
    "print('Mean By', By_mean)\n",
    "print('Mean Bz', Bz_mean)"
   ]
  },
  {
   "cell_type": "markdown",
   "id": "b6480500",
   "metadata": {},
   "source": [
    "### Plotting distributions"
   ]
  },
  {
   "cell_type": "code",
   "execution_count": null,
   "id": "861964c0",
   "metadata": {},
   "outputs": [],
   "source": [
    "# Plot of field components\n",
    "plt.figure(figsize = (15, 10))\n",
    "#\n",
    "plt.subplot(2, 2, 1)\n",
    "counts, bins = np.histogram(Bx, bins=50)\n",
    "plt.hist(bins[:-1], bins, weights=counts)\n",
    "plt.xlabel(r'$\\delta B_x$ [nG]', fontsize=17)\n",
    "plt.grid()\n",
    "#\n",
    "plt.subplot(2, 2, 2)\n",
    "counts, bins = np.histogram(By, bins=50)\n",
    "plt.hist(bins[:-1], bins, weights=counts)\n",
    "plt.xlabel(r'$\\delta B_y$ [nG]', fontsize=17)\n",
    "plt.grid()\n",
    "#\n",
    "plt.subplot(2, 2, 3)\n",
    "counts, bins = np.histogram(Bz, bins=50)\n",
    "plt.hist(bins[:-1], bins, weights=counts)\n",
    "plt.xlabel(r'$\\delta B_z$ [nG]', fontsize=17)\n",
    "plt.grid()\n",
    "#\n",
    "plt.savefig('mean_field_components_kolmogorov.pdf')"
   ]
  },
  {
   "cell_type": "code",
   "execution_count": null,
   "id": "aa24031b",
   "metadata": {},
   "outputs": [],
   "source": [
    "# Plot of squared field components\n",
    "plt.figure(figsize = (15, 10))\n",
    "#\n",
    "plt.subplot(2, 2, 1)\n",
    "counts, bins = np.histogram(Bx_sqr, bins=50)\n",
    "plt.hist(bins[:-1], bins, weights=counts)\n",
    "plt.xlabel(r'$(\\delta B_x)^2$', fontsize=17)\n",
    "plt.yscale('log')\n",
    "plt.grid()\n",
    "#\n",
    "plt.subplot(2, 2, 2)\n",
    "counts, bins = np.histogram(By_sqr, bins=50)\n",
    "plt.hist(bins[:-1], bins, weights=counts)\n",
    "plt.xlabel(r'$(\\delta B_y)^2$', fontsize=17)\n",
    "plt.yscale('log')\n",
    "plt.grid()\n",
    "#\n",
    "plt.subplot(2, 2, 3)\n",
    "counts, bins = np.histogram(Bz_sqr, bins=50)\n",
    "plt.hist(bins[:-1], bins, weights=counts)\n",
    "plt.xlabel(r'$(\\delta B_z)^2$', fontsize=17)\n",
    "plt.yscale('log')\n",
    "plt.grid()\n",
    "#\n",
    "plt.savefig('squared_field_components_kolmogorov.pdf')"
   ]
  }
 ],
 "metadata": {
  "kernelspec": {
   "display_name": "Python 3 (ipykernel)",
   "language": "python",
   "name": "python3"
  },
  "language_info": {
   "codemirror_mode": {
    "name": "ipython",
    "version": 3
   },
   "file_extension": ".py",
   "mimetype": "text/x-python",
   "name": "python",
   "nbconvert_exporter": "python",
   "pygments_lexer": "ipython3",
   "version": "3.11.5"
  }
 },
 "nbformat": 4,
 "nbformat_minor": 5
}
