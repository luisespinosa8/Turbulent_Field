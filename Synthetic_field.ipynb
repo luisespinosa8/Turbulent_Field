{
 "cells": [
  {
   "cell_type": "code",
   "execution_count": 1,
   "id": "44d374e0",
   "metadata": {},
   "outputs": [],
   "source": [
    "from pylab import *\n",
    "from crpropa import *"
   ]
  },
  {
   "cell_type": "markdown",
   "id": "ad8a883e",
   "metadata": {},
   "source": [
    "# Synthetic turbulent field with CRPropa"
   ]
  },
  {
   "cell_type": "markdown",
   "id": "57a25a67",
   "metadata": {},
   "source": [
    "## Uniform field $\\vec{B_0}=B_0\\hat{z}$ with turbulence $\\vec{\\delta B}=(\\delta B_x,\\delta B_y,0)$"
   ]
  },
  {
   "cell_type": "markdown",
   "id": "a63ae392",
   "metadata": {},
   "source": [
    "## $\\delta B_x=\\delta B\\cos(kz)$ and $\\delta B_y=\\pm\\delta B\\sin(kz)$ such that $\\frac{\\delta B_y}{\\delta B_x}=\\pm\\tan(kz)$"
   ]
  },
  {
   "cell_type": "code",
   "execution_count": null,
   "id": "248df946",
   "metadata": {},
   "outputs": [],
   "source": [
    "random_seed = 42\n",
    "Brms = 3*nG\n",
    "lmin = 60*pc\n",
    "lmax = 800*pc\n",
    "index = 5./3.\n",
    "spectrum = SimpleTurbulenceSpectrum(Brms, lmin, lmax, index)\n",
    "grid = GridProperties(Vector3d(0), 256, 30*pc)\n",
    "BField = SimpleGridTurbulence(spectrum, grid, random_seed)"
   ]
  },
  {
   "cell_type": "code",
   "execution_count": null,
   "id": "7c0b75ed",
   "metadata": {},
   "outputs": [],
   "source": [
    "print('Lc = {:.1f} kpc'.format(BField.getCorrelationLength() / kpc))  \n",
    "print('sqrt(<B^2>) = {:.1f} nG'.format(BField.getBrms() / nG))   \n",
    "print('<|B|> = {:.1f} nG'.format(BField.getMeanFieldStrength() / nG))"
   ]
  },
  {
   "cell_type": "code",
   "execution_count": null,
   "id": "8bc4e098",
   "metadata": {},
   "outputs": [],
   "source": [
    "BField = dumpGrid(BField.getGrid(), 'myfield.dat')\n",
    "\n",
    "\n",
    "for i in range(0,601):\n",
    "    z = 10**(i / 100)\n",
    "    Bx, By, Bz = BBField.getField(Vector3d(0,0,z) * Mpc) / nG\n",
    "    k = (By / Bx)*(1 / z) \n",
    "    delta_B = np.cos(k*z) / Bx\n",
    "    F_k = delta_B**2 * k\n",
    "    \n",
    "    \n",
    "plt.plot(k,)"
   ]
  }
 ],
 "metadata": {
  "kernelspec": {
   "display_name": "Python 3 (ipykernel)",
   "language": "python",
   "name": "python3"
  },
  "language_info": {
   "codemirror_mode": {
    "name": "ipython",
    "version": 3
   },
   "file_extension": ".py",
   "mimetype": "text/x-python",
   "name": "python",
   "nbconvert_exporter": "python",
   "pygments_lexer": "ipython3",
   "version": "3.11.5"
  }
 },
 "nbformat": 4,
 "nbformat_minor": 5
}
