{
 "cells": [
  {
   "cell_type": "markdown",
   "id": "d038fe6f",
   "metadata": {},
   "source": [
    "# Particle diffusion in synthetic turbulent field"
   ]
  },
  {
   "cell_type": "code",
   "execution_count": 3,
   "id": "292a3bd3",
   "metadata": {},
   "outputs": [],
   "source": [
    "from pylab import *"
   ]
  },
  {
   "cell_type": "code",
   "execution_count": null,
   "id": "7c0b1e6f",
   "metadata": {},
   "outputs": [],
   "source": [
    "from crpropa import *"
   ]
  },
  {
   "cell_type": "markdown",
   "id": "152035d4",
   "metadata": {},
   "source": [
    "## 1. Generation of turbulent and uniform fields"
   ]
  },
  {
   "cell_type": "code",
   "execution_count": null,
   "id": "20de9799",
   "metadata": {},
   "outputs": [],
   "source": [
    "# Grid\n",
    "spacing = 10 * pc\n",
    "grid_number = 256\n",
    "\n",
    "# Turbulent field\n",
    "random_seed = 42\n",
    "Brms = 5 * nG\n",
    "lmin = 2 * spacing\n",
    "lmax = (grid_number * spacing) / 8\n",
    "index = 5./3.\n",
    "spectrum = SimpleTurbulenceSpectrum(Brms, lmin, lmax, index)\n",
    "grid = GridProperties(Vector3d(0), grid_number, spacing)\n",
    "BField = SimpleGridTurbulence(spectrum, grid, random_seed)\n",
    "\n",
    "# Uniform field\n",
    "ConstMagVec = Vector3d(0*nG,0*nG,1*nG)\n",
    "BField = UniformMagneticField(ConstMagVec)\n",
    "\n",
    "# Print field properties\n",
    "print('Field properties:')\n",
    "print('Lc = {:.1f} pc'.format(BField.getCorrelationLength() / pc))\n",
    "print('sqrt(<B^2>) = {:.1f} nG'.format(BField.getBrms() / nG)) \n",
    "print('<|B|> = {:.1f} nG'.format(BField.getMeanFieldStrength() / nG))  \n",
    "\n",
    "# Saving field\n",
    "dumpGridToTxt(BField.getGrid(), 'kolmogorov_field.txt') "
   ]
  },
  {
   "cell_type": "markdown",
   "id": "8b8e1b51",
   "metadata": {},
   "source": [
    "## 2. Particle propagation"
   ]
  },
  {
   "cell_type": "code",
   "execution_count": null,
   "id": "17feb33e",
   "metadata": {},
   "outputs": [],
   "source": [
    "N_particles = 1e5\n",
    "\n",
    "# Propagation settings\n",
    "maxlen = 100 * kpc\n",
    "N = 50.\n",
    "Emin = 100 * GeV\n",
    "Emax = 100 * PeV\n",
    "step = maxlen / N\n",
    "sim = ModuleList()\n",
    "sim.add(PropagationCK(BField))\n",
    "sim.add(MaximumTrajectoryLength(maxlen))\n",
    "\n",
    "# Source\n",
    "source = Source()\n",
    "source.add(SourcePosition(Vector3d(0.))) # Centered at origin\n",
    "source.add(SourceParticleType(nucleusId(1, 1))) # Emitting protons\n",
    "source.add(SourcePowerLawSpectrum(Emin, Emax, -1) ) # Energy spectrum\n",
    "source.add(SourceIsotropicEmission())\n",
    "print(source)\n",
    "\n",
    "# Ouput\n",
    "out = TextOutput('trajectory.txt', Output.Trajectory3D)\n",
    "out.enable(Output.TrajectoryLengthColumn)\n",
    "out.enable(Output.CurrentPositionColumn)\n",
    "out.enable(Output.SerialNumberColumn)\n",
    "out.setLengthScale(kpc)\n",
    "\n",
    "# Observer\n",
    "obs = Observer()\n",
    "obs.add(ObserverTimeEvolution(step, step, N)) # Number of time steps\n",
    "obs.setDeactivateOnDetection(False)\n",
    "obs.onDetection(out)\n",
    "sim.add(obs)\n",
    "\n",
    "# Run simulation\n",
    "sim.run(source, int(N_particles), True)\n",
    "out.close()\n",
    "print('Simulation finished :)')"
   ]
  },
  {
   "cell_type": "markdown",
   "id": "c5a666f2",
   "metadata": {},
   "source": [
    "## 3. Computation of diffusion coefficients"
   ]
  },
  {
   "cell_type": "code",
   "execution_count": null,
   "id": "0ec253d7",
   "metadata": {},
   "outputs": [],
   "source": [
    "# Load data\n",
    "N_particles = int(1e3)\n",
    "N_steps = int(1e4)\n",
    "data = np.genfromtxt('trajectory.txt')\n",
    "time = data[:,0] / 3e8 # Transform distance into time\n",
    "serial_number = data[:,1] # Particle number\n",
    "# Distance in all directions\n",
    "x = data[:,4] \n",
    "y = data[:,5]\n",
    "z = data[:,6]\n",
    "\n",
    "# Time and space matrices\n",
    "t_mat = np.zeros((N_steps, N_particles))\n",
    "x_mat = np.zeros((N_steps, N_particles))\n",
    "y_mat = np.zeros((N_steps, N_particles))\n",
    "z_mat = np.zeros((N_steps, N_particles))\n",
    "for i in range(1, N_particles+1):\n",
    "    index_particles = np.where(np.logical_and(serial_number == i, serial_number == i))\n",
    "    t_mat[:,i-1] = time[index_particles]\n",
    "    x_mat[:,i-1] = x[index_particles]\n",
    "    y_mat[:,i-1] = y[index_particles]\n",
    "    z_mat[:,i-1] = z[index_particles]"
   ]
  },
  {
   "cell_type": "code",
   "execution_count": null,
   "id": "6ee91aca",
   "metadata": {},
   "outputs": [],
   "source": [
    "# Computation of dx^2, dx taken as difference from the origin\n",
    "x2_mat = x_mat**2\n",
    "y2_mat = y_mat**2\n",
    "z2_mat = z_mat**2\n",
    "\n",
    "# Average over all particles\n",
    "dx2 = np.zeros(N_steps)\n",
    "dy2 = np.zeros(N_steps)\n",
    "dz2 = np.zeros(N_steps)\n",
    "for j in range(0,N_particles):\n",
    "    dx2 += x2_mat[:,j]\n",
    "    dy2 += y2_mat[:,j]\n",
    "    dz2 += z2_mat[:,j]\n",
    "dx2 = dx2 / N_particles\n",
    "dy2 = dy2 / N_particles\n",
    "dz2 = dz2 / N_particles\n",
    "\n",
    "# Computation of diffusion coefficients\n",
    "Dxx = dx2 / (6 * t_mat[:,0])\n",
    "Dyy = dy2 / (6 * t_mat[:,0])\n",
    "Dzz = dz2 / (6 * t_mat[:,0])\n",
    "D = Dxx + Dyy + Dzz\n",
    "\n",
    "# Time scale in years\n",
    "tau = t_mat[:,0] * 3.171e-8 "
   ]
  },
  {
   "cell_type": "code",
   "execution_count": null,
   "id": "2165071b",
   "metadata": {},
   "outputs": [],
   "source": [
    "# Plotting diffusion coefficients as function of time\n",
    "plt.figure(figsize=(10, 7))\n",
    "plt.plot(tau, Dxx, color='blue', label=r'$D_{xx}$')\n",
    "plt.plot(tau, Dyy, color='red', label=r'$D_{yy}$')\n",
    "plt.plot(tau, Dzz, color='green', label=r'$D_{zz}$')\n",
    "plt.plot(tau, D, color='black', label=r'$D$')\n",
    "plt.loglog()\n",
    "plt.xlabel('Time [yrs]', fontsize=17)\n",
    "plt.ylabel(r'D(E,t) [m$^2$/s]', fontsize=17)\n",
    "plt.legend(ncol=1, fontsize=14)\n",
    "plt.title('Diffusion coefficients', fontsize=17)\n",
    "plt.savefig('diff_coeff.pdf')"
   ]
  }
 ],
 "metadata": {
  "kernelspec": {
   "display_name": "Python 3 (ipykernel)",
   "language": "python",
   "name": "python3"
  },
  "language_info": {
   "codemirror_mode": {
    "name": "ipython",
    "version": 3
   },
   "file_extension": ".py",
   "mimetype": "text/x-python",
   "name": "python",
   "nbconvert_exporter": "python",
   "pygments_lexer": "ipython3",
   "version": "3.11.5"
  }
 },
 "nbformat": 4,
 "nbformat_minor": 5
}
