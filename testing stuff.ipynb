{
 "cells": [
  {
   "cell_type": "code",
   "execution_count": null,
   "id": "8ad0080c",
   "metadata": {},
   "outputs": [],
   "source": [
    "from crpropa import *"
   ]
  },
  {
   "cell_type": "code",
   "execution_count": null,
   "id": "24ad9147",
   "metadata": {},
   "outputs": [],
   "source": [
    "from pylab import *"
   ]
  },
  {
   "cell_type": "markdown",
   "id": "8d8d3b2d",
   "metadata": {},
   "source": [
    "### Plot of field components"
   ]
  },
  {
   "cell_type": "code",
   "execution_count": null,
   "id": "4b07fb8e",
   "metadata": {},
   "outputs": [],
   "source": [
    "plt.figure(figsize=(10, 7))\n",
    "# x-axis\n",
    "plt.subplot(2, 2, 1)\n",
    "plt.plot(x, Bx_x, label=r'$B_x$')\n",
    "plt.plot(x, By_x, label=r'$B_y$')\n",
    "plt.plot(x, Bz_x, label=r'$B_z$')\n",
    "plt.xscale('log')\n",
    "plt.grid()\n",
    "plt.xlabel('x [pc]', fontsize=17)\n",
    "plt.ylabel('B [nG]', fontsize=17)\n",
    "plt.yticks(fontsize=17)\n",
    "plt.xticks(fontsize=17)\n",
    "plt.title('Along x-axis', fontsize=17)\n",
    "# y-axis\n",
    "plt.subplot(2, 2, 2)\n",
    "plt.plot(y, Bx_y, label=r'$B_x$')\n",
    "plt.plot(y, By_y, label=r'$B_y$')\n",
    "plt.plot(y, Bz_y, label=r'$B_z$')\n",
    "plt.xscale('log')\n",
    "plt.grid()\n",
    "plt.xlabel('y [pc]', fontsize=17)\n",
    "plt.ylabel('B [nG]', fontsize=17)\n",
    "plt.yticks(fontsize=17)\n",
    "plt.xticks(fontsize=17)\n",
    "plt.title('Along y-axis', fontsize=17)\n",
    "# z-axis\n",
    "plt.subplot(2, 2, 3)\n",
    "plt.plot(z, Bx_z, label=r'$B_x$')\n",
    "plt.plot(z, By_z, label=r'$B_y$')\n",
    "plt.plot(z, Bz_z, label=r'$B_z$')\n",
    "plt.xscale('log')\n",
    "plt.grid()\n",
    "plt.xlabel('z [pc]', fontsize=17)\n",
    "plt.ylabel('B [nG]', fontsize=17)\n",
    "plt.yticks(fontsize=17)\n",
    "plt.xticks(fontsize=17)\n",
    "plt.title('Along z-axis', fontsize=17)\n",
    "plt.savefig('Field_components.pdf')"
   ]
  },
  {
   "cell_type": "markdown",
   "id": "92b346e6",
   "metadata": {},
   "source": [
    "### Computation of k-scales and power spectrum F(k)"
   ]
  },
  {
   "cell_type": "code",
   "execution_count": null,
   "id": "7c9fa1e1",
   "metadata": {},
   "outputs": [],
   "source": [
    "k = [0] * 601\n",
    "F_k = [0] * 601\n",
    "for i in range(0,601):\n",
    "    z = 10**(i / 100)\n",
    "    Bx, By, Bz = BBField.getField(Vector3d(0,0,z) * pc) / nG\n",
    "    k[i] = (By / Bx)*(1 / z) \n",
    "    delta_B = np.cos(k*z) / Bx\n",
    "    #delta_B = np.sin(k*z) / By\n",
    "    F_k[i] = ( (delta_B**2) / (Brms**2) ) * k"
   ]
  },
  {
   "cell_type": "markdown",
   "id": "cf6730ba",
   "metadata": {},
   "source": [
    "### Plot of power spectrum "
   ]
  },
  {
   "cell_type": "code",
   "execution_count": null,
   "id": "80062eb7",
   "metadata": {},
   "outputs": [],
   "source": [
    "plt.figure(figsize=(10, 7))\n",
    "plt.plot(k, F_k)\n",
    "plt.title('Power spectrum of turbulent field', fontsize=17)\n",
    "plt.xlabel('k [1/pc]', fontsize=17)\n",
    "plt.ylabel('F(k)', fontsize=17)\n",
    "plt.grid()\n",
    "plt.yticks(fontsize=17)\n",
    "plt.xticks(fontsize=17)\n",
    "plt.savefig('Spectrum_synthetic_field.pdf')"
   ]
  }
 ],
 "metadata": {
  "kernelspec": {
   "display_name": "Python 3 (ipykernel)",
   "language": "python",
   "name": "python3"
  },
  "language_info": {
   "codemirror_mode": {
    "name": "ipython",
    "version": 3
   },
   "file_extension": ".py",
   "mimetype": "text/x-python",
   "name": "python",
   "nbconvert_exporter": "python",
   "pygments_lexer": "ipython3",
   "version": "3.11.5"
  }
 },
 "nbformat": 4,
 "nbformat_minor": 5
}
